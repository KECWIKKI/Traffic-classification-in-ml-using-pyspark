{
  "nbformat": 4,
  "nbformat_minor": 0,
  "metadata": {
    "colab": {
      "provenance": []
    },
    "kernelspec": {
      "name": "python3",
      "display_name": "Python 3"
    },
    "language_info": {
      "name": "python"
    }
  },
  "cells": [
    {
      "cell_type": "code",
      "execution_count": null,
      "metadata": {
        "id": "JmgJ1hpUemHd",
        "colab": {
          "base_uri": "https://localhost:8080/"
        },
        "outputId": "60451803-9b57-4040-bd41-d7081b99294e"
      },
      "outputs": [
        {
          "output_type": "stream",
          "name": "stdout",
          "text": [
            "Collecting pyspark\n",
            "  Downloading pyspark-3.5.0.tar.gz (316.9 MB)\n",
            "\u001b[2K     \u001b[90m━━━━━━━━━━━━━━━━━━━━━━━━━━━━━━━━━━━━━━━━\u001b[0m \u001b[32m316.9/316.9 MB\u001b[0m \u001b[31m4.8 MB/s\u001b[0m eta \u001b[36m0:00:00\u001b[0m\n",
            "\u001b[?25h  Preparing metadata (setup.py) ... \u001b[?25l\u001b[?25hdone\n",
            "Requirement already satisfied: py4j==0.10.9.7 in /usr/local/lib/python3.10/dist-packages (from pyspark) (0.10.9.7)\n",
            "Building wheels for collected packages: pyspark\n",
            "  Building wheel for pyspark (setup.py) ... \u001b[?25l\u001b[?25hdone\n",
            "  Created wheel for pyspark: filename=pyspark-3.5.0-py2.py3-none-any.whl size=317425344 sha256=ebbcb3b54490f317c353842b6711cf2a141573dcc345ce8e85aabf3ebad1e748\n",
            "  Stored in directory: /root/.cache/pip/wheels/41/4e/10/c2cf2467f71c678cfc8a6b9ac9241e5e44a01940da8fbb17fc\n",
            "Successfully built pyspark\n",
            "Installing collected packages: pyspark\n",
            "Successfully installed pyspark-3.5.0\n"
          ]
        }
      ],
      "source": [
        "!pip install pyspark"
      ]
    },
    {
      "cell_type": "code",
      "source": [
        "from pyspark.sql import SparkSession\n",
        "spark=SparkSession.builder.appName(\"Miniproject\").getOrCreate()"
      ],
      "metadata": {
        "id": "QVNj85GVkl7-"
      },
      "execution_count": null,
      "outputs": []
    },
    {
      "cell_type": "code",
      "source": [
        "df=spark.read.csv(\"/content/Traffic.csv\",header=True,inferSchema=True)\n",
        "df.show(5,truncate=False)"
      ],
      "metadata": {
        "colab": {
          "base_uri": "https://localhost:8080/"
        },
        "id": "KqSBi8xIktHL",
        "outputId": "218a96f2-79bd-42ae-c05f-ef78ad52e71a"
      },
      "execution_count": null,
      "outputs": [
        {
          "output_type": "stream",
          "name": "stdout",
          "text": [
            "+-----------+----+---------------+--------+---------+--------+----------+-----+-----------------+\n",
            "|Time       |Date|Day of the week|CarCount|BikeCount|BusCount|TruckCount|Total|Traffic Situation|\n",
            "+-----------+----+---------------+--------+---------+--------+----------+-----+-----------------+\n",
            "|12:00:00 AM|10  |Tuesday        |31      |0        |4       |4         |39   |low              |\n",
            "|12:15:00 AM|10  |Tuesday        |49      |0        |3       |3         |55   |low              |\n",
            "|12:30:00 AM|10  |Tuesday        |46      |0        |3       |6         |55   |low              |\n",
            "|12:45:00 AM|10  |Tuesday        |51      |0        |2       |5         |58   |low              |\n",
            "|1:00:00 AM |10  |Tuesday        |57      |6        |15      |16        |94   |normal           |\n",
            "+-----------+----+---------------+--------+---------+--------+----------+-----+-----------------+\n",
            "only showing top 5 rows\n",
            "\n"
          ]
        }
      ]
    },
    {
      "cell_type": "code",
      "source": [
        "from pyspark.ml.feature import StringIndexer\n",
        "from pyspark.ml import Pipeline"
      ],
      "metadata": {
        "id": "bD___ykck_Gx"
      },
      "execution_count": null,
      "outputs": []
    },
    {
      "cell_type": "code",
      "source": [
        "day_indexer = StringIndexer(inputCol=\"Day of the week\", outputCol=\"DayIndex\")\n",
        "day_model = day_indexer.fit(df)\n",
        "df = day_model.transform(df)"
      ],
      "metadata": {
        "id": "uUGWFm9HlmvU"
      },
      "execution_count": null,
      "outputs": []
    },
    {
      "cell_type": "code",
      "source": [
        "traffic_indexer = StringIndexer(inputCol=\"Traffic Situation\", outputCol=\"TrafficIndex\")\n",
        "traffic_model = traffic_indexer.fit(df)\n",
        "df = traffic_model.transform(df)"
      ],
      "metadata": {
        "id": "D18fMai5lvUp"
      },
      "execution_count": null,
      "outputs": []
    },
    {
      "cell_type": "code",
      "source": [
        "df.show(5)"
      ],
      "metadata": {
        "colab": {
          "base_uri": "https://localhost:8080/"
        },
        "id": "NUlpN9HWns24",
        "outputId": "98312b2a-5519-4cdf-d94d-a04ae519aa2c"
      },
      "execution_count": null,
      "outputs": [
        {
          "output_type": "stream",
          "name": "stdout",
          "text": [
            "+-----------+----+---------------+--------+---------+--------+----------+-----+-----------------+--------+------------+\n",
            "|       Time|Date|Day of the week|CarCount|BikeCount|BusCount|TruckCount|Total|Traffic Situation|DayIndex|TrafficIndex|\n",
            "+-----------+----+---------------+--------+---------+--------+----------+-----+-----------------+--------+------------+\n",
            "|12:00:00 AM|  10|        Tuesday|      31|        0|       4|         4|   39|              low|     1.0|         3.0|\n",
            "|12:15:00 AM|  10|        Tuesday|      49|        0|       3|         3|   55|              low|     1.0|         3.0|\n",
            "|12:30:00 AM|  10|        Tuesday|      46|        0|       3|         6|   55|              low|     1.0|         3.0|\n",
            "|12:45:00 AM|  10|        Tuesday|      51|        0|       2|         5|   58|              low|     1.0|         3.0|\n",
            "| 1:00:00 AM|  10|        Tuesday|      57|        6|      15|        16|   94|           normal|     1.0|         0.0|\n",
            "+-----------+----+---------------+--------+---------+--------+----------+-----+-----------------+--------+------------+\n",
            "only showing top 5 rows\n",
            "\n"
          ]
        }
      ]
    },
    {
      "cell_type": "code",
      "source": [
        "columns_to_drop = [\"Time\", \"Day of the week\", \"Traffic Situation\"]\n",
        "df = df.drop(*columns_to_drop)"
      ],
      "metadata": {
        "id": "qS6k7D8ioleJ"
      },
      "execution_count": null,
      "outputs": []
    },
    {
      "cell_type": "code",
      "source": [
        "df.show(5)"
      ],
      "metadata": {
        "colab": {
          "base_uri": "https://localhost:8080/"
        },
        "id": "J9Wu9IAaost-",
        "outputId": "19d3ff50-4e67-484a-f5b7-d0fd10c56f47"
      },
      "execution_count": null,
      "outputs": [
        {
          "output_type": "stream",
          "name": "stdout",
          "text": [
            "+----+--------+---------+--------+----------+-----+--------+------------+\n",
            "|Date|CarCount|BikeCount|BusCount|TruckCount|Total|DayIndex|TrafficIndex|\n",
            "+----+--------+---------+--------+----------+-----+--------+------------+\n",
            "|  10|      31|        0|       4|         4|   39|     1.0|         3.0|\n",
            "|  10|      49|        0|       3|         3|   55|     1.0|         3.0|\n",
            "|  10|      46|        0|       3|         6|   55|     1.0|         3.0|\n",
            "|  10|      51|        0|       2|         5|   58|     1.0|         3.0|\n",
            "|  10|      57|        6|      15|        16|   94|     1.0|         0.0|\n",
            "+----+--------+---------+--------+----------+-----+--------+------------+\n",
            "only showing top 5 rows\n",
            "\n"
          ]
        }
      ]
    },
    {
      "cell_type": "code",
      "source": [
        "from pyspark.ml.feature import VectorAssembler\n",
        "from pyspark.ml.classification import RandomForestClassifier\n",
        "from pyspark.ml.evaluation import MulticlassClassificationEvaluator"
      ],
      "metadata": {
        "id": "Ly26iQk5rLK3"
      },
      "execution_count": null,
      "outputs": []
    },
    {
      "cell_type": "code",
      "source": [
        "feature_columns = [\"Date\", \"CarCount\", \"BikeCount\", \"BusCount\", \"TruckCount\", \"Total\", \"DayIndex\"]\n",
        "assembler = VectorAssembler(inputCols=feature_columns, outputCol=\"features\")\n"
      ],
      "metadata": {
        "id": "17MXd1zmrMoX"
      },
      "execution_count": null,
      "outputs": []
    },
    {
      "cell_type": "code",
      "source": [
        "rf = RandomForestClassifier(featuresCol=\"features\", labelCol=\"TrafficIndex\", numTrees=100, maxDepth=4, seed=123)"
      ],
      "metadata": {
        "id": "3FK-8Z48rPcR"
      },
      "execution_count": null,
      "outputs": []
    },
    {
      "cell_type": "code",
      "source": [
        "pipeline = Pipeline(stages=[assembler, rf])"
      ],
      "metadata": {
        "id": "idL1Yh6RrSSo"
      },
      "execution_count": null,
      "outputs": []
    },
    {
      "cell_type": "code",
      "source": [
        "train_data, test_data = df.randomSplit([0.7, 0.3], seed=123)\n",
        "model = pipeline.fit(train_data)\n",
        "predictions = model.transform(test_data)"
      ],
      "metadata": {
        "id": "lu5Jk_e-rViJ"
      },
      "execution_count": null,
      "outputs": []
    },
    {
      "cell_type": "code",
      "source": [
        "evaluator = MulticlassClassificationEvaluator(labelCol=\"TrafficIndex\", predictionCol=\"prediction\", metricName=\"accuracy\")\n",
        "accuracy0 = evaluator.evaluate(predictions)\n",
        "\n",
        "print(\"RandomForestClassifier:\", accuracy0)"
      ],
      "metadata": {
        "colab": {
          "base_uri": "https://localhost:8080/"
        },
        "id": "2HdlyZWQrYW_",
        "outputId": "bfae2daa-27c4-45ee-fc4d-0c96a610bb22"
      },
      "execution_count": null,
      "outputs": [
        {
          "output_type": "stream",
          "name": "stdout",
          "text": [
            "RandomForestClassifier: 0.9677072120559742\n"
          ]
        }
      ]
    },
    {
      "cell_type": "code",
      "source": [
        "from pyspark.ml.classification import DecisionTreeClassifier"
      ],
      "metadata": {
        "id": "WN-L-772sFaI"
      },
      "execution_count": null,
      "outputs": []
    },
    {
      "cell_type": "code",
      "source": [
        "dt = DecisionTreeClassifier(featuresCol=\"features\", labelCol=\"TrafficIndex\", maxDepth=4, seed=123)\n"
      ],
      "metadata": {
        "id": "QA7kkPOWrdwz"
      },
      "execution_count": null,
      "outputs": []
    },
    {
      "cell_type": "code",
      "source": [
        "pipeline = Pipeline(stages=[assembler, dt])"
      ],
      "metadata": {
        "id": "MQ4QrmGZdh7P"
      },
      "execution_count": null,
      "outputs": []
    },
    {
      "cell_type": "code",
      "source": [
        "train_data, test_data = df.randomSplit([0.7, 0.3], seed=123)\n",
        "model1 = pipeline.fit(train_data)\n",
        "predictions = model1.transform(test_data)"
      ],
      "metadata": {
        "id": "MUv8vtQ5dlyL"
      },
      "execution_count": null,
      "outputs": []
    },
    {
      "cell_type": "code",
      "source": [
        "evaluator = MulticlassClassificationEvaluator(\n",
        "    labelCol=\"TrafficIndex\", predictionCol=\"prediction\", metricName=\"accuracy\"\n",
        ")\n",
        "accuracy1 = evaluator.evaluate(predictions)\n",
        "\n",
        "print(\"Decision Tree Accuracy:\", accuracy1)"
      ],
      "metadata": {
        "colab": {
          "base_uri": "https://localhost:8080/"
        },
        "id": "3HDpUB8SsTxS",
        "outputId": "1bfefea0-75f8-42eb-b58f-e20f81b0f67e"
      },
      "execution_count": null,
      "outputs": [
        {
          "output_type": "stream",
          "name": "stdout",
          "text": [
            "Decision Tree Accuracy: 0.9655543595263725\n"
          ]
        }
      ]
    },
    {
      "cell_type": "code",
      "source": [
        "from pyspark.ml.classification import LogisticRegression"
      ],
      "metadata": {
        "id": "ecyby7XPsijV"
      },
      "execution_count": null,
      "outputs": []
    },
    {
      "cell_type": "code",
      "source": [
        "lr = LogisticRegression(featuresCol=\"features\", labelCol=\"TrafficIndex\")"
      ],
      "metadata": {
        "id": "P2fCBh_OtRf6"
      },
      "execution_count": null,
      "outputs": []
    },
    {
      "cell_type": "code",
      "source": [
        "pipeline = Pipeline(stages=[assembler, lr])"
      ],
      "metadata": {
        "id": "CaE9lWl5tVvI"
      },
      "execution_count": null,
      "outputs": []
    },
    {
      "cell_type": "code",
      "source": [
        "train_data, test_data = df.randomSplit([0.7, 0.3], seed=123)\n",
        "model2 = pipeline.fit(train_data)\n",
        "predictions = model2.transform(test_data)"
      ],
      "metadata": {
        "id": "IVkDxKJQfIsL"
      },
      "execution_count": null,
      "outputs": []
    },
    {
      "cell_type": "code",
      "source": [
        "evaluator = MulticlassClassificationEvaluator(\n",
        "    labelCol=\"TrafficIndex\", predictionCol=\"prediction\", metricName=\"accuracy\"\n",
        ")\n",
        "accuracy2 = evaluator.evaluate(predictions)\n",
        "\n",
        "print(\"Logistic Regression Accuracy:\", accuracy2)"
      ],
      "metadata": {
        "colab": {
          "base_uri": "https://localhost:8080/"
        },
        "id": "IOX7Tr9NtcRT",
        "outputId": "8e4e754b-7697-4347-f6fe-f93fd35a3234"
      },
      "execution_count": null,
      "outputs": [
        {
          "output_type": "stream",
          "name": "stdout",
          "text": [
            "Logistic Regression Accuracy: 0.8966630785791173\n"
          ]
        }
      ]
    },
    {
      "cell_type": "code",
      "source": [
        "from pyspark.ml.classification import MultilayerPerceptronClassifier"
      ],
      "metadata": {
        "id": "BsIvt9jUtg02"
      },
      "execution_count": null,
      "outputs": []
    },
    {
      "cell_type": "code",
      "source": [
        "num_classes = 4\n",
        "layers = [7, 10, 5, num_classes]"
      ],
      "metadata": {
        "id": "zomw5PM9uDfs"
      },
      "execution_count": null,
      "outputs": []
    },
    {
      "cell_type": "code",
      "source": [
        "train_data.select(\"TrafficIndex\").distinct().show()"
      ],
      "metadata": {
        "colab": {
          "base_uri": "https://localhost:8080/"
        },
        "id": "v4zBTG6cuX90",
        "outputId": "3082749a-2323-4d5f-9bcb-3a240de2d2d2"
      },
      "execution_count": null,
      "outputs": [
        {
          "output_type": "stream",
          "name": "stdout",
          "text": [
            "+------------+\n",
            "|TrafficIndex|\n",
            "+------------+\n",
            "|         0.0|\n",
            "|         1.0|\n",
            "|         3.0|\n",
            "|         2.0|\n",
            "+------------+\n",
            "\n"
          ]
        }
      ]
    },
    {
      "cell_type": "code",
      "source": [
        "mlp = MultilayerPerceptronClassifier(featuresCol=\"features\", labelCol=\"TrafficIndex\", layers=layers, blockSize=128, seed=123)"
      ],
      "metadata": {
        "id": "EjewcPFXuzBl"
      },
      "execution_count": null,
      "outputs": []
    },
    {
      "cell_type": "code",
      "source": [
        "pipeline = Pipeline(stages=[assembler, mlp])"
      ],
      "metadata": {
        "id": "x8pcoaBsu5V1"
      },
      "execution_count": null,
      "outputs": []
    },
    {
      "cell_type": "code",
      "source": [
        "train_data, test_data = df.randomSplit([0.7, 0.3], seed=123)\n",
        "model3 = pipeline.fit(train_data)\n",
        "predictions = model3.transform(test_data)"
      ],
      "metadata": {
        "id": "NM3XpNDmfkn3"
      },
      "execution_count": null,
      "outputs": []
    },
    {
      "cell_type": "code",
      "source": [
        "evaluator = MulticlassClassificationEvaluator(\n",
        "    labelCol=\"TrafficIndex\", predictionCol=\"prediction\", metricName=\"accuracy\"\n",
        ")\n",
        "accuracy3 = evaluator.evaluate(predictions)\n",
        "\n",
        "print(\"Multilayer Perceptron Accuracy:\", accuracy3)"
      ],
      "metadata": {
        "colab": {
          "base_uri": "https://localhost:8080/"
        },
        "id": "eRhMJ7vZu89P",
        "outputId": "b778f558-1aca-4cca-b2b8-4e6436a42f47"
      },
      "execution_count": null,
      "outputs": [
        {
          "output_type": "stream",
          "name": "stdout",
          "text": [
            "Multilayer Perceptron Accuracy: 0.635091496232508\n"
          ]
        }
      ]
    },
    {
      "cell_type": "code",
      "source": [
        "from pyspark.ml.classification import NaiveBayes"
      ],
      "metadata": {
        "id": "JHYRJRqpvRWp"
      },
      "execution_count": null,
      "outputs": []
    },
    {
      "cell_type": "code",
      "source": [
        "nb = NaiveBayes(featuresCol=\"features\", labelCol=\"TrafficIndex\", smoothing=1.0, modelType=\"multinomial\")"
      ],
      "metadata": {
        "id": "zhU-pomOvSiy"
      },
      "execution_count": null,
      "outputs": []
    },
    {
      "cell_type": "code",
      "source": [
        "pipeline = Pipeline(stages=[assembler, nb])"
      ],
      "metadata": {
        "id": "QxRPZtjXveC1"
      },
      "execution_count": null,
      "outputs": []
    },
    {
      "cell_type": "code",
      "source": [
        "train_data, test_data = df.randomSplit([0.7, 0.3], seed=123)\n",
        "model4 = pipeline.fit(train_data)\n",
        "predictions = model4.transform(test_data)"
      ],
      "metadata": {
        "id": "K5tscAUtgKjE"
      },
      "execution_count": null,
      "outputs": []
    },
    {
      "cell_type": "code",
      "source": [
        "evaluator = MulticlassClassificationEvaluator(\n",
        "    labelCol=\"TrafficIndex\", predictionCol=\"prediction\", metricName=\"accuracy\"\n",
        ")\n",
        "accuracy4 = evaluator.evaluate(predictions)\n",
        "print(\"Naive Bayes Accuracy:\", accuracy4)"
      ],
      "metadata": {
        "colab": {
          "base_uri": "https://localhost:8080/"
        },
        "id": "muIDovWBvjGl",
        "outputId": "72effd43-9734-4990-946d-5412a830bc84"
      },
      "execution_count": null,
      "outputs": [
        {
          "output_type": "stream",
          "name": "stdout",
          "text": [
            "Naive Bayes Accuracy: 0.6523143164693218\n"
          ]
        }
      ]
    },
    {
      "cell_type": "code",
      "source": [],
      "metadata": {
        "id": "vl4ITnZfWMRH"
      },
      "execution_count": null,
      "outputs": []
    },
    {
      "cell_type": "markdown",
      "source": [
        "**Hyper parameter**"
      ],
      "metadata": {
        "id": "oKxPDP-UhN0p"
      }
    },
    {
      "cell_type": "code",
      "source": [
        "from pyspark.ml.tuning import ParamGridBuilder, CrossValidator\n",
        "feature_columns = [\"Date\", \"CarCount\", \"BikeCount\", \"BusCount\", \"TruckCount\", \"Total\", \"DayIndex\"]\n",
        "assembler = VectorAssembler(inputCols=feature_columns, outputCol=\"features\")\n",
        "data = assembler.transform(df)\n",
        "train_data, test_data = data.randomSplit([0.7, 0.3], seed=123)\n",
        "nb = NaiveBayes(featuresCol=\"features\", labelCol=\"TrafficIndex\")\n",
        "paramGrid = (ParamGridBuilder()\n",
        "    .addGrid(nb.smoothing, [0.0, 1.0, 5.0, 10.0])\n",
        "    .build())\n",
        "evaluator = MulticlassClassificationEvaluator(\n",
        "    labelCol=\"TrafficIndex\", predictionCol=\"prediction\", metricName=\"accuracy\")\n",
        "crossval = CrossValidator(\n",
        "    estimator=nb,\n",
        "    estimatorParamMaps=paramGrid,\n",
        "    evaluator=evaluator,\n",
        "    numFolds=5)\n",
        "cv_model = crossval.fit(train_data)\n",
        "best_model = cv_model.bestModel\n",
        "predictions = best_model.transform(test_data)\n",
        "accuracyh1 = evaluator.evaluate(predictions)\n",
        "print(\"Best Naive Bayes Model Accuracy:\", accuracyh1)"
      ],
      "metadata": {
        "colab": {
          "base_uri": "https://localhost:8080/"
        },
        "id": "q9flOPVmwoJk",
        "outputId": "8e8d1338-7c81-408c-b56f-bf9819b8fb0a"
      },
      "execution_count": null,
      "outputs": [
        {
          "output_type": "stream",
          "name": "stdout",
          "text": [
            "Best Naive Bayes Model Accuracy: 0.6523143164693218\n"
          ]
        }
      ]
    },
    {
      "cell_type": "code",
      "source": [
        "from pyspark.ml.tuning import ParamGridBuilder, CrossValidator\n",
        "feature_columns = [\"Date\", \"CarCount\", \"BikeCount\", \"BusCount\", \"TruckCount\", \"Total\", \"DayIndex\"]\n",
        "assembler = VectorAssembler(inputCols=feature_columns, outputCol=\"features\")\n",
        "data = assembler.transform(df)\n",
        "train_data, test_data = data.randomSplit([0.7, 0.3], seed=123)\n",
        "dt = DecisionTreeClassifier(featuresCol=\"features\", labelCol=\"TrafficIndex\", maxDepth=4, seed=123)\n",
        "paramGrid = (ParamGridBuilder()\n",
        "    .addGrid(dt.maxDepth, [4, 6, 8])\n",
        "    .build())\n",
        "\n",
        "evaluator = MulticlassClassificationEvaluator(\n",
        "    labelCol=\"TrafficIndex\", predictionCol=\"prediction\", metricName=\"accuracy\")\n",
        "crossval = CrossValidator(\n",
        "    estimator=dt,\n",
        "    estimatorParamMaps=paramGrid,\n",
        "    evaluator=evaluator,\n",
        "    numFolds=5\n",
        ")\n",
        "cv_model = crossval.fit(train_data)\n",
        "best_model = cv_model.bestModel\n",
        "predictions = best_model.transform(test_data)\n",
        "accuracyh3 = evaluator.evaluate(predictions)\n",
        "print(\"Best DecisionTreeClassifier Accuracy:\", accuracyh3)\n"
      ],
      "metadata": {
        "colab": {
          "base_uri": "https://localhost:8080/"
        },
        "id": "z0hy-u_2hqjY",
        "outputId": "375e516f-6206-4fe2-de89-0aa6574ffc56"
      },
      "execution_count": null,
      "outputs": [
        {
          "output_type": "stream",
          "name": "stdout",
          "text": [
            "Best DecisionTreeClassifier Accuracy: 0.9687836383207751\n"
          ]
        }
      ]
    },
    {
      "cell_type": "code",
      "source": [
        "from pyspark.ml.tuning import ParamGridBuilder, CrossValidator\n",
        "feature_columns = [\"Date\", \"CarCount\", \"BikeCount\", \"BusCount\", \"TruckCount\", \"Total\", \"DayIndex\"]\n",
        "assembler = VectorAssembler(inputCols=feature_columns, outputCol=\"features\")\n",
        "data = assembler.transform(df)\n",
        "train_data, test_data = data.randomSplit([0.7, 0.3], seed=123)\n",
        "rf = RandomForestClassifier(featuresCol=\"features\", labelCol=\"TrafficIndex\", numTrees=100, maxDepth=4, seed=123)\n",
        "paramGrid = (ParamGridBuilder()\n",
        "    .addGrid(rf.numTrees, [100, 200, 300])\n",
        "    .addGrid(rf.maxDepth, [4, 6, 8])\n",
        "    .build())\n",
        "evaluator = MulticlassClassificationEvaluator(\n",
        "    labelCol=\"TrafficIndex\", predictionCol=\"prediction\", metricName=\"accuracy\")\n",
        "crossval = CrossValidator(\n",
        "    estimator=rf,\n",
        "    estimatorParamMaps=paramGrid,\n",
        "    evaluator=evaluator,\n",
        "    numFolds=5\n",
        ")\n",
        "cv_model = crossval.fit(train_data)\n",
        "best_model = cv_model.bestModel\n",
        "predictions = best_model.transform(test_data)\n",
        "accuracy = evaluator.evaluate(predictions)\n",
        "print(\"Best RandomForestClassifier Accuracy:\", accuracy)\n"
      ],
      "metadata": {
        "colab": {
          "base_uri": "https://localhost:8080/"
        },
        "id": "shEji8hTh897",
        "outputId": "34e912c9-17dd-4432-a990-4a7c80edef8f"
      },
      "execution_count": null,
      "outputs": [
        {
          "output_type": "stream",
          "name": "stdout",
          "text": [
            "Best RandomForestClassifier Accuracy: 0.9773950484391819\n"
          ]
        }
      ]
    },
    {
      "cell_type": "code",
      "source": [
        "from pyspark.ml.tuning import ParamGridBuilder, CrossValidator\n",
        "feature_columns = [\"Date\", \"CarCount\", \"BikeCount\", \"BusCount\", \"TruckCount\", \"Total\", \"DayIndex\"]\n",
        "assembler = VectorAssembler(inputCols=feature_columns, outputCol=\"features\")\n",
        "data = assembler.transform(df)\n",
        "train_data, test_data = data.randomSplit([0.7, 0.3], seed=123)\n",
        "lr = LogisticRegression(featuresCol=\"features\", labelCol=\"TrafficIndex\", maxIter=10, regParam=0.01, elasticNetParam=0.8)\n",
        "paramGrid = (ParamGridBuilder()\n",
        "    .addGrid(lr.regParam, [0.01, 0.1, 1.0])\n",
        "    .addGrid(lr.elasticNetParam, [0.0, 0.5, 1.0])\n",
        "    .build())\n",
        "evaluator = MulticlassClassificationEvaluator(\n",
        "    labelCol=\"TrafficIndex\", predictionCol=\"prediction\", metricName=\"accuracy\")\n",
        "crossval = CrossValidator(\n",
        "    estimator=lr,\n",
        "    estimatorParamMaps=paramGrid,\n",
        "    evaluator=evaluator,\n",
        "    numFolds=5\n",
        ")\n",
        "cv_model = crossval.fit(train_data)\n",
        "best_model = cv_model.bestModel\n",
        "predictions = best_model.transform(test_data)\n",
        "accuracyh2 = evaluator.evaluate(predictions)\n",
        "print(\"Best Logistic Regression Accuracy:\", accuracyh2)\n"
      ],
      "metadata": {
        "colab": {
          "base_uri": "https://localhost:8080/"
        },
        "id": "oyVICa73CeAD",
        "outputId": "e543f047-355f-4af3-8179-ae9508a4383f"
      },
      "execution_count": null,
      "outputs": [
        {
          "output_type": "stream",
          "name": "stdout",
          "text": [
            "Best Logistic Regression Accuracy: 0.8665231431646933\n"
          ]
        }
      ]
    },
    {
      "cell_type": "code",
      "source": [
        "from pyspark.ml.tuning import ParamGridBuilder, CrossValidator\n",
        "feature_columns = [\"Date\", \"CarCount\", \"BikeCount\", \"BusCount\", \"TruckCount\", \"Total\", \"DayIndex\"]\n",
        "assembler = VectorAssembler(inputCols=feature_columns, outputCol=\"features\")\n",
        "data = assembler.transform(df)\n",
        "train_data, test_data = data.randomSplit([0.7, 0.3], seed=123)\n",
        "layers = [len(feature_columns), 10, 10, 5]\n",
        "mlp = MultilayerPerceptronClassifier(featuresCol=\"features\", labelCol=\"TrafficIndex\", layers=layers, blockSize=128, seed=123)\n",
        "paramGrid = (ParamGridBuilder()\n",
        "    .addGrid(mlp.maxIter, [100, 200])\n",
        "    .addGrid(mlp.stepSize, [0.03, 0.1])\n",
        "    .build())\n",
        "evaluator = MulticlassClassificationEvaluator(\n",
        "    labelCol=\"TrafficIndex\", predictionCol=\"prediction\", metricName=\"accuracy\")\n",
        "crossval = CrossValidator(\n",
        "    estimator=mlp,\n",
        "    estimatorParamMaps=paramGrid,\n",
        "    evaluator=evaluator,\n",
        "    numFolds=5\n",
        ")\n",
        "cv_model = crossval.fit(train_data)\n",
        "best_model = cv_model.bestModel\n",
        "predictions = best_model.transform(test_data)\n",
        "accuracyh4= evaluator.evaluate(predictions)\n",
        "print(\"Best MLP Classifier Accuracy:\", accuracyh4)"
      ],
      "metadata": {
        "colab": {
          "base_uri": "https://localhost:8080/"
        },
        "id": "MSMm6A52Dgex",
        "outputId": "8bcb3757-21c7-4b0a-dca0-99478a36d97d"
      },
      "execution_count": null,
      "outputs": [
        {
          "output_type": "stream",
          "name": "stdout",
          "text": [
            "Best MLP Classifier Accuracy: 0.759956942949408\n"
          ]
        }
      ]
    },
    {
      "cell_type": "code",
      "source": [
        "rf=accuracy*100\n",
        "nb=accuracyh1*100\n",
        "dt=accuracyh3*100\n",
        "mlp=accuracyh4*100\n",
        "lr=accuracyh2*100"
      ],
      "metadata": {
        "id": "BV-tIIcXjYTh"
      },
      "execution_count": null,
      "outputs": []
    },
    {
      "cell_type": "code",
      "source": [
        "acc=[rf,nb,dt,mlp,lr]\n",
        "models=['rf','nb','dt','mlp','lr']"
      ],
      "metadata": {
        "id": "sGaJMPm-kScc"
      },
      "execution_count": null,
      "outputs": []
    },
    {
      "cell_type": "markdown",
      "source": [
        "Hyperparameter Graph"
      ],
      "metadata": {
        "id": "7WTZ5dE3Hf9W"
      }
    },
    {
      "cell_type": "code",
      "source": [
        "import matplotlib.pyplot as plt\n",
        "import seaborn as sns\n",
        "import pandas as pd\n",
        "sns.barplot(data=pd.DataFrame({\"algorithm\":models,\"accuracy\":acc}),x=\"algorithm\",y=\"accuracy\")"
      ],
      "metadata": {
        "colab": {
          "base_uri": "https://localhost:8080/",
          "height": 466
        },
        "id": "_Bsx63-hiN63",
        "outputId": "821d5904-e1cd-45b8-bacc-9fd3e34d1373"
      },
      "execution_count": null,
      "outputs": [
        {
          "output_type": "execute_result",
          "data": {
            "text/plain": [
              "<Axes: xlabel='algorithm', ylabel='accuracy'>"
            ]
          },
          "metadata": {},
          "execution_count": 54
        },
        {
          "output_type": "display_data",
          "data": {
            "text/plain": [
              "<Figure size 640x480 with 1 Axes>"
            ],
            "image/png": "[encoded data removed]"
          },
          "metadata": {}
        }
      ]
    },
    {
      "cell_type": "code",
      "source": [
        "rf=accuracy0*100\n",
        "nb=accuracy4*100\n",
        "dt=accuracy1*100\n",
        "mlp=accuracy3*100\n",
        "lr=accuracy2*100"
      ],
      "metadata": {
        "id": "NOs7BBosr-5Y"
      },
      "execution_count": null,
      "outputs": []
    },
    {
      "cell_type": "code",
      "source": [
        "acc=[rf,nb,dt,lr,mlp]\n",
        "models=['rf','nb','dt','lr','mlp']"
      ],
      "metadata": {
        "id": "f2E8yiwVsCj4"
      },
      "execution_count": null,
      "outputs": []
    },
    {
      "cell_type": "markdown",
      "source": [
        "Graph"
      ],
      "metadata": {
        "id": "VBYT0L2BHpFU"
      }
    },
    {
      "cell_type": "code",
      "source": [
        "import matplotlib.pyplot as plt\n",
        "import seaborn as sns\n",
        "import pandas as pd\n",
        "sns.barplot(data=pd.DataFrame({\"alg\":models,\"accuracy\":acc}),x=\"alg\",y=\"accuracy\")"
      ],
      "metadata": {
        "colab": {
          "base_uri": "https://localhost:8080/",
          "height": 466
        },
        "id": "OmWnrvb0sEsb",
        "outputId": "fa9e9480-04ae-47e0-8e7b-b01eca0b2d03"
      },
      "execution_count": null,
      "outputs": [
        {
          "output_type": "execute_result",
          "data": {
            "text/plain": [
              "<Axes: xlabel='alg', ylabel='accuracy'>"
            ]
          },
          "metadata": {},
          "execution_count": 57
        },
        {
          "output_type": "display_data",
          "data": {
            "text/plain": [
              "<Figure size 640x480 with 1 Axes>"
            ],
            "image/png": "[encoded data removed]"
          },
          "metadata": {}
        }
      ]
    },
    {
      "cell_type": "code",
      "source": [],
      "metadata": {
        "id": "DFYa9DkyBgUL"
      },
      "execution_count": null,
      "outputs": []
    }
  ]
}